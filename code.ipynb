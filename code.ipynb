{
 "cells": [
  {
   "cell_type": "code",
   "execution_count": null,
   "metadata": {},
   "outputs": [],
   "source": [
    "import pandas as pd\n",
    "\n",
    "# dropping columns ans shuffling datasets \n",
    "bank_df = pd.read_csv(\"train.csv\", index_col=\"id\")\n",
    "bank_df = bank_df.drop(['CustomerId', 'Surname'], axis=1)\n",
    "bank_df = bank_df.sample(frac=1)\n",
    "bank_df.head()"
   ]
  },
  {
   "cell_type": "code",
   "execution_count": null,
   "metadata": {},
   "outputs": [],
   "source": [
    "\n",
    "# apply min-max scaling and conversion categorical features to intergerss\n",
    "from sklearn.impute import SimpleImputer\n",
    "from sklearn.preprocessing import OrdinalEncoder, MinMaxScaler\n",
    "\n",
    "cat_col = [1,2]\n",
    "num_col = [0,3,4,5,6,7,8,9]\n",
    "\n",
    "# Filling missing categorical values\n",
    "cat_impute = SimpleImputer(strategy=\"most_frequent\")\n",
    "bank_df.iloc[:,cat_col] = cat_impute.fit_transform(bank_df.iloc[:,cat_col])\n",
    "\n",
    "# Filling missing numerical values\n",
    "num_impute = SimpleImputer(strategy=\"median\")\n",
    "bank_df.iloc[:,num_col] = num_impute.fit_transform(bank_df.iloc[:,num_col])\n",
    "\n",
    "\n",
    "# Encode categorical features as an integer array.\n",
    "cat_encode = OrdinalEncoder()\n",
    "bank_df.iloc[:,cat_col] = cat_encode.fit_transform(bank_df.iloc[:,cat_col])\n",
    "\n",
    "\n",
    "# Scaling numerical values.\n",
    "scaler = MinMaxScaler()\n",
    "bank_df.iloc[:,num_col] = scaler.fit_transform(bank_df.iloc[:,num_col])\n",
    "\n",
    "bank_df.head()"
   ]
  },
  {
   "cell_type": "code",
   "execution_count": null,
   "metadata": {},
   "outputs": [],
   "source": [
    "# combined two pieplines using column transodfpomer and provided index \n",
    "from sklearn.impute import SimpleImputer\n",
    "from sklearn.preprocessing import OrdinalEncoder, MinMaxScaler\n",
    "from sklearn.compose import ColumnTransformer\n",
    "from sklearn.pipeline import Pipeline\n",
    "\n",
    "\n",
    "# Identify numerical and categorical columns\n",
    "cat_col = [1,2]\n",
    "num_col = [0,3,4,5,6,7,8,9]\n",
    "\n",
    "# Transformers for numerical data\n",
    "numerical_transformer = Pipeline(steps=[\n",
    "    ('imputer', SimpleImputer(strategy='mean')),\n",
    "    ('scaler', MinMaxScaler())\n",
    "])\n",
    "\n",
    "# Transformers for categorical data\n",
    "categorical_transformer = Pipeline(steps=[\n",
    "    ('imputer', SimpleImputer(strategy='most_frequent')),\n",
    "    ('encoder', OrdinalEncoder())\n",
    "])\n",
    "\n",
    "# Combine transformers into a ColumnTransformer\n",
    "preproc_pipe = ColumnTransformer(\n",
    "    transformers=[\n",
    "        ('num', numerical_transformer, num_col),\n",
    "        ('cat', categorical_transformer, cat_col)\n",
    "    ],\n",
    "    remainder=\"passthrough\"\n",
    ")\n",
    "\n",
    "# Apply the preprocessing pipeline\n",
    "bank_df = preproc_pipe.fit_transform(bank_df)\n",
    "bank_df[0]"
   ]
  }
 ],
 "metadata": {
  "language_info": {
   "name": "python"
  }
 },
 "nbformat": 4,
 "nbformat_minor": 2
}
