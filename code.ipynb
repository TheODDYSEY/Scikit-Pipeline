{
 "cells": [
  {
   "cell_type": "code",
   "execution_count": null,
   "metadata": {},
   "outputs": [],
   "source": [
    "import pandas as pd\n",
    "\n",
    "# dropping columns ans shuffling datasets \n",
    "bank_df = pd.read_csv(\"train.csv\", index_col=\"id\")\n",
    "bank_df = bank_df.drop(['CustomerId', 'Surname'], axis=1)\n",
    "bank_df = bank_df.sample(frac=1)\n",
    "bank_df.head()"
   ]
  },
  {
   "cell_type": "code",
   "execution_count": null,
   "metadata": {},
   "outputs": [],
   "source": []
  }
 ],
 "metadata": {
  "language_info": {
   "name": "python"
  }
 },
 "nbformat": 4,
 "nbformat_minor": 2
}
